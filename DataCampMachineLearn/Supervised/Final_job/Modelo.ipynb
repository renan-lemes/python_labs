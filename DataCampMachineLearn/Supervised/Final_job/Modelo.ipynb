{
 "cells": [
  {
   "cell_type": "code",
   "execution_count": 12,
   "metadata": {},
   "outputs": [],
   "source": [
    "import pandas as pd\n",
    "import numpy as np\n",
    "import plotly.express as px\n",
    "from sklearn.linear_model import LogisticRegression\n",
    "from sklearn.model_selection import cross_val_score\n",
    "from sklearn.model_selection import train_test_split\n",
    "from sklearn.model_selection import GridSearchCV\n",
    "from sklearn.preprocessing import StandardScaler, scale\n",
    "from sklearn.neighbors import KNeighborsClassifier\n",
    "#from sklearn.preprocessing import Imputer\n",
    "from sklearn.pipeline import Pipeline\n",
    "import matplotlib.pyplot as plt\n",
    "plt.style.use('ggplot')\n"
   ]
  },
  {
   "cell_type": "code",
   "execution_count": 13,
   "metadata": {},
   "outputs": [],
   "source": [
    "df = pd.read_csv('CarBuyers.csv')\n"
   ]
  },
  {
   "cell_type": "code",
   "execution_count": 14,
   "metadata": {},
   "outputs": [
    {
     "data": {
      "text/html": [
       "<div>\n",
       "<style scoped>\n",
       "    .dataframe tbody tr th:only-of-type {\n",
       "        vertical-align: middle;\n",
       "    }\n",
       "\n",
       "    .dataframe tbody tr th {\n",
       "        vertical-align: top;\n",
       "    }\n",
       "\n",
       "    .dataframe thead th {\n",
       "        text-align: right;\n",
       "    }\n",
       "</style>\n",
       "<table border=\"1\" class=\"dataframe\">\n",
       "  <thead>\n",
       "    <tr style=\"text-align: right;\">\n",
       "      <th></th>\n",
       "      <th>Manufacturer</th>\n",
       "      <th>Model</th>\n",
       "      <th>Price</th>\n",
       "      <th>Transmission</th>\n",
       "      <th>Power</th>\n",
       "      <th>Engine CC</th>\n",
       "      <th>Fuel</th>\n",
       "      <th>Male</th>\n",
       "      <th>Female</th>\n",
       "      <th>Unknown</th>\n",
       "      <th>Total</th>\n",
       "    </tr>\n",
       "  </thead>\n",
       "  <tbody>\n",
       "    <tr>\n",
       "      <th>0</th>\n",
       "      <td>Ford</td>\n",
       "      <td>Focus</td>\n",
       "      <td>30.619322</td>\n",
       "      <td>5.966102</td>\n",
       "      <td>94.033898</td>\n",
       "      <td>1497.169492</td>\n",
       "      <td>petrol</td>\n",
       "      <td>814172</td>\n",
       "      <td>422731</td>\n",
       "      <td>56,487</td>\n",
       "      <td>1293390</td>\n",
       "    </tr>\n",
       "    <tr>\n",
       "      <th>1</th>\n",
       "      <td>Ford</td>\n",
       "      <td>Fiesta</td>\n",
       "      <td>18.532143</td>\n",
       "      <td>5.714286</td>\n",
       "      <td>68.571429</td>\n",
       "      <td>1166.142857</td>\n",
       "      <td>petrol</td>\n",
       "      <td>554879</td>\n",
       "      <td>631666</td>\n",
       "      <td>54,057</td>\n",
       "      <td>1240602</td>\n",
       "    </tr>\n",
       "    <tr>\n",
       "      <th>2</th>\n",
       "      <td>Volkswagen</td>\n",
       "      <td>Golf</td>\n",
       "      <td>31.242154</td>\n",
       "      <td>6.164835</td>\n",
       "      <td>89.461538</td>\n",
       "      <td>1537.406593</td>\n",
       "      <td>petrol</td>\n",
       "      <td>483216</td>\n",
       "      <td>310604</td>\n",
       "      <td>47,563</td>\n",
       "      <td>841383</td>\n",
       "    </tr>\n",
       "    <tr>\n",
       "      <th>3</th>\n",
       "      <td>Renault</td>\n",
       "      <td>Clio</td>\n",
       "      <td>22.100000</td>\n",
       "      <td>5.615385</td>\n",
       "      <td>75.576923</td>\n",
       "      <td>1219.653846</td>\n",
       "      <td>petrol</td>\n",
       "      <td>241287</td>\n",
       "      <td>312556</td>\n",
       "      <td>28,004</td>\n",
       "      <td>581847</td>\n",
       "    </tr>\n",
       "    <tr>\n",
       "      <th>4</th>\n",
       "      <td>BMW</td>\n",
       "      <td>320i</td>\n",
       "      <td>47.848370</td>\n",
       "      <td>6.444444</td>\n",
       "      <td>126.111111</td>\n",
       "      <td>1995.777778</td>\n",
       "      <td>petrol</td>\n",
       "      <td>408016</td>\n",
       "      <td>115843</td>\n",
       "      <td>29,125</td>\n",
       "      <td>552984</td>\n",
       "    </tr>\n",
       "    <tr>\n",
       "      <th>...</th>\n",
       "      <td>...</td>\n",
       "      <td>...</td>\n",
       "      <td>...</td>\n",
       "      <td>...</td>\n",
       "      <td>...</td>\n",
       "      <td>...</td>\n",
       "      <td>...</td>\n",
       "      <td>...</td>\n",
       "      <td>...</td>\n",
       "      <td>...</td>\n",
       "      <td>...</td>\n",
       "    </tr>\n",
       "    <tr>\n",
       "      <th>6087</th>\n",
       "      <td>Land-Rover</td>\n",
       "      <td>Defender</td>\n",
       "      <td>108.747195</td>\n",
       "      <td>7.853659</td>\n",
       "      <td>207.609756</td>\n",
       "      <td>2304.975610</td>\n",
       "      <td>diesel</td>\n",
       "      <td>1,012</td>\n",
       "      <td>150</td>\n",
       "      <td>80</td>\n",
       "      <td>1,242</td>\n",
       "    </tr>\n",
       "    <tr>\n",
       "      <th>6088</th>\n",
       "      <td>Toyota</td>\n",
       "      <td>RAV4</td>\n",
       "      <td>43.548516</td>\n",
       "      <td>1.354839</td>\n",
       "      <td>137.774193</td>\n",
       "      <td>2261.193548</td>\n",
       "      <td>petrol</td>\n",
       "      <td>670</td>\n",
       "      <td>482</td>\n",
       "      <td>66</td>\n",
       "      <td>1,218</td>\n",
       "    </tr>\n",
       "    <tr>\n",
       "      <th>6089</th>\n",
       "      <td>Alfa-Romeo</td>\n",
       "      <td>Spider</td>\n",
       "      <td>55.200000</td>\n",
       "      <td>6.000000</td>\n",
       "      <td>163.500000</td>\n",
       "      <td>2696.500000</td>\n",
       "      <td>petrol</td>\n",
       "      <td>790</td>\n",
       "      <td>247</td>\n",
       "      <td>81</td>\n",
       "      <td>1,118</td>\n",
       "    </tr>\n",
       "    <tr>\n",
       "      <th>6090</th>\n",
       "      <td>Honda</td>\n",
       "      <td>Shuttle</td>\n",
       "      <td>30.081000</td>\n",
       "      <td>4.000000</td>\n",
       "      <td>110.000000</td>\n",
       "      <td>2254.000000</td>\n",
       "      <td>petrol</td>\n",
       "      <td>639</td>\n",
       "      <td>416</td>\n",
       "      <td>49</td>\n",
       "      <td>1,104</td>\n",
       "    </tr>\n",
       "    <tr>\n",
       "      <th>6091</th>\n",
       "      <td>Mitsubishi</td>\n",
       "      <td>Space</td>\n",
       "      <td>23.165158</td>\n",
       "      <td>3.947368</td>\n",
       "      <td>82.157895</td>\n",
       "      <td>1817.315789</td>\n",
       "      <td>petrol</td>\n",
       "      <td>721</td>\n",
       "      <td>251</td>\n",
       "      <td>40</td>\n",
       "      <td>1,012</td>\n",
       "    </tr>\n",
       "  </tbody>\n",
       "</table>\n",
       "<p>6092 rows × 11 columns</p>\n",
       "</div>"
      ],
      "text/plain": [
       "     Manufacturer     Model       Price  Transmission       Power  \\\n",
       "0            Ford     Focus   30.619322      5.966102   94.033898   \n",
       "1            Ford    Fiesta   18.532143      5.714286   68.571429   \n",
       "2      Volkswagen      Golf   31.242154      6.164835   89.461538   \n",
       "3         Renault      Clio   22.100000      5.615385   75.576923   \n",
       "4             BMW      320i   47.848370      6.444444  126.111111   \n",
       "...           ...       ...         ...           ...         ...   \n",
       "6087   Land-Rover  Defender  108.747195      7.853659  207.609756   \n",
       "6088       Toyota      RAV4   43.548516      1.354839  137.774193   \n",
       "6089   Alfa-Romeo    Spider   55.200000      6.000000  163.500000   \n",
       "6090        Honda   Shuttle   30.081000      4.000000  110.000000   \n",
       "6091   Mitsubishi     Space   23.165158      3.947368   82.157895   \n",
       "\n",
       "        Engine CC    Fuel    Male  Female Unknown    Total  \n",
       "0     1497.169492  petrol  814172  422731  56,487  1293390  \n",
       "1     1166.142857  petrol  554879  631666  54,057  1240602  \n",
       "2     1537.406593  petrol  483216  310604  47,563   841383  \n",
       "3     1219.653846  petrol  241287  312556  28,004   581847  \n",
       "4     1995.777778  petrol  408016  115843  29,125   552984  \n",
       "...           ...     ...     ...     ...     ...      ...  \n",
       "6087  2304.975610  diesel   1,012     150      80    1,242  \n",
       "6088  2261.193548  petrol     670     482      66    1,218  \n",
       "6089  2696.500000  petrol     790     247      81    1,118  \n",
       "6090  2254.000000  petrol     639     416      49    1,104  \n",
       "6091  1817.315789  petrol     721     251      40    1,012  \n",
       "\n",
       "[6092 rows x 11 columns]"
      ]
     },
     "execution_count": 14,
     "metadata": {},
     "output_type": "execute_result"
    }
   ],
   "source": [
    "df"
   ]
  },
  {
   "cell_type": "code",
   "execution_count": 15,
   "metadata": {},
   "outputs": [
    {
     "name": "stdout",
     "output_type": "stream",
     "text": [
      "<class 'pandas.core.frame.DataFrame'>\n",
      "RangeIndex: 6092 entries, 0 to 6091\n",
      "Data columns (total 11 columns):\n",
      " #   Column        Non-Null Count  Dtype  \n",
      "---  ------        --------------  -----  \n",
      " 0   Manufacturer  6092 non-null   object \n",
      " 1   Model         6092 non-null   object \n",
      " 2   Price         6092 non-null   float64\n",
      " 3   Transmission  6092 non-null   float64\n",
      " 4   Power         6092 non-null   float64\n",
      " 5   Engine CC     6092 non-null   float64\n",
      " 6   Fuel          6092 non-null   object \n",
      " 7   Male          6092 non-null   object \n",
      " 8   Female        6092 non-null   object \n",
      " 9   Unknown       6092 non-null   object \n",
      " 10  Total         6092 non-null   object \n",
      "dtypes: float64(4), object(7)\n",
      "memory usage: 523.7+ KB\n"
     ]
    }
   ],
   "source": [
    "df.info()"
   ]
  },
  {
   "cell_type": "code",
   "execution_count": 16,
   "metadata": {},
   "outputs": [],
   "source": [
    "X = df.iloc[:,2:6].values\n",
    "y = df['Total']"
   ]
  },
  {
   "cell_type": "code",
   "execution_count": 7,
   "metadata": {},
   "outputs": [
    {
     "data": {
      "text/plain": [
       "array([[  30.61932203,    5.96610169,   94.03389831, 1497.169492  ],\n",
       "       [  18.53214286,    5.71428571,   68.57142857, 1166.142857  ],\n",
       "       [  31.24215385,    6.16483517,   89.46153846, 1537.406593  ],\n",
       "       ...,\n",
       "       [  55.2       ,    6.        ,  163.5       , 2696.5       ],\n",
       "       [  30.081     ,    4.        ,  110.        , 2254.        ],\n",
       "       [  23.16515789,    3.94736842,   82.15789474, 1817.315789  ]])"
      ]
     },
     "execution_count": 7,
     "metadata": {},
     "output_type": "execute_result"
    }
   ],
   "source": [
    "X"
   ]
  },
  {
   "cell_type": "code",
   "execution_count": 8,
   "metadata": {},
   "outputs": [
    {
     "data": {
      "text/plain": [
       "0       1293390\n",
       "1       1240602\n",
       "2        841383\n",
       "3        581847\n",
       "4        552984\n",
       "         ...   \n",
       "6087      1,242\n",
       "6088      1,218\n",
       "6089      1,118\n",
       "6090      1,104\n",
       "6091      1,012\n",
       "Name: Total, Length: 6092, dtype: object"
      ]
     },
     "execution_count": 8,
     "metadata": {},
     "output_type": "execute_result"
    }
   ],
   "source": [
    "y"
   ]
  },
  {
   "cell_type": "code",
   "execution_count": 9,
   "metadata": {},
   "outputs": [],
   "source": [
    "X_train, X_test, y_train, y_test = train_test_split(X, y, random_state=42, test_size=0.4)"
   ]
  },
  {
   "cell_type": "code",
   "execution_count": 18,
   "metadata": {},
   "outputs": [],
   "source": [
    "logreg = LogisticRegression()\n",
    "knn = KNeighborsClassifier(n_neighbors=5)"
   ]
  },
  {
   "cell_type": "code",
   "execution_count": 19,
   "metadata": {},
   "outputs": [
    {
     "name": "stderr",
     "output_type": "stream",
     "text": [
      "C:\\Users\\Renan Lemes\\OneDrive\\Área de Trabalho\\DALE_2\\Blog\\venv\\lib\\site-packages\\sklearn\\linear_model\\_logistic.py:814: ConvergenceWarning: lbfgs failed to converge (status=1):\n",
      "STOP: TOTAL NO. of ITERATIONS REACHED LIMIT.\n",
      "\n",
      "Increase the number of iterations (max_iter) or scale the data as shown in:\n",
      "    https://scikit-learn.org/stable/modules/preprocessing.html\n",
      "Please also refer to the documentation for alternative solver options:\n",
      "    https://scikit-learn.org/stable/modules/linear_model.html#logistic-regression\n",
      "  n_iter_i = _check_optimize_result(\n"
     ]
    }
   ],
   "source": [
    "logreg.fit(X_train, y_train)\n",
    "y_pred = logreg.predict(X_test)"
   ]
  },
  {
   "cell_type": "code",
   "execution_count": 20,
   "metadata": {},
   "outputs": [
    {
     "name": "stdout",
     "output_type": "stream",
     "text": [
      "['1,274' '1,782' '14,183' ... '1,282' '1,082' '1,138']\n"
     ]
    }
   ],
   "source": [
    "print(y_pred)"
   ]
  },
  {
   "cell_type": "code",
   "execution_count": 21,
   "metadata": {},
   "outputs": [
    {
     "data": {
      "text/plain": [
       "0.0004103405826836274"
      ]
     },
     "execution_count": 21,
     "metadata": {},
     "output_type": "execute_result"
    }
   ],
   "source": [
    "logreg.score(X_test, y_test)"
   ]
  },
  {
   "cell_type": "code",
   "execution_count": null,
   "metadata": {},
   "outputs": [],
   "source": []
  }
 ],
 "metadata": {
  "interpreter": {
   "hash": "93d181ae0537741559a56fe3f4ecb1ffaf114b18a27fd1319b63730f0271173f"
  },
  "kernelspec": {
   "display_name": "Python 3.9.0 64-bit (system)",
   "language": "python",
   "name": "python3"
  },
  "language_info": {
   "codemirror_mode": {
    "name": "ipython",
    "version": 3
   },
   "file_extension": ".py",
   "mimetype": "text/x-python",
   "name": "python",
   "nbconvert_exporter": "python",
   "pygments_lexer": "ipython3",
   "version": "3.9.0"
  },
  "orig_nbformat": 4
 },
 "nbformat": 4,
 "nbformat_minor": 2
}
