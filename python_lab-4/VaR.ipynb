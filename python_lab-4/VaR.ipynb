{
 "cells": [
  {
   "cell_type": "code",
   "execution_count": 1,
   "metadata": {},
   "outputs": [],
   "source": [
    "import pandas as pd \n",
    "import numpy as np\n",
    "import matplotlib\n",
    "import matplotlib.pyplot as plt\n",
    "\n",
    "from numpy.linalg import multi_dot\n",
    "from tabulate import tabulate\n",
    "from scipy.stats import norm"
   ]
  },
  {
   "cell_type": "code",
   "execution_count": 2,
   "metadata": {},
   "outputs": [],
   "source": [
    "plt.style.use('ggplot')\n",
    "matplotlib.rcParams['figure.figsize'] = [12.0,8.0]\n",
    "matplotlib.rcParams['font.size'] = 10\n",
    "matplotlib.rcParams['lines.linewidth'] = 2.0"
   ]
  },
  {
   "cell_type": "code",
   "execution_count": 4,
   "metadata": {},
   "outputs": [
    {
     "data": {
      "text/html": [
       "<div>\n",
       "<style scoped>\n",
       "    .dataframe tbody tr th:only-of-type {\n",
       "        vertical-align: middle;\n",
       "    }\n",
       "\n",
       "    .dataframe tbody tr th {\n",
       "        vertical-align: top;\n",
       "    }\n",
       "\n",
       "    .dataframe thead th {\n",
       "        text-align: right;\n",
       "    }\n",
       "</style>\n",
       "<table border=\"1\" class=\"dataframe\">\n",
       "  <thead>\n",
       "    <tr style=\"text-align: right;\">\n",
       "      <th></th>\n",
       "      <th>AAPL</th>\n",
       "      <th>AMZN</th>\n",
       "      <th>FB</th>\n",
       "      <th>GOOG</th>\n",
       "      <th>NFLX</th>\n",
       "    </tr>\n",
       "    <tr>\n",
       "      <th>Date</th>\n",
       "      <th></th>\n",
       "      <th></th>\n",
       "      <th></th>\n",
       "      <th></th>\n",
       "      <th></th>\n",
       "    </tr>\n",
       "  </thead>\n",
       "  <tbody>\n",
       "    <tr>\n",
       "      <th>2015-01-02</th>\n",
       "      <td>24.745993</td>\n",
       "      <td>308.519989</td>\n",
       "      <td>78.449997</td>\n",
       "      <td>523.373108</td>\n",
       "      <td>49.848572</td>\n",
       "    </tr>\n",
       "    <tr>\n",
       "      <th>2015-01-05</th>\n",
       "      <td>24.048864</td>\n",
       "      <td>302.190002</td>\n",
       "      <td>77.190002</td>\n",
       "      <td>512.463013</td>\n",
       "      <td>47.311428</td>\n",
       "    </tr>\n",
       "    <tr>\n",
       "      <th>2015-01-06</th>\n",
       "      <td>24.051123</td>\n",
       "      <td>295.290009</td>\n",
       "      <td>76.150002</td>\n",
       "      <td>500.585632</td>\n",
       "      <td>46.501431</td>\n",
       "    </tr>\n",
       "    <tr>\n",
       "      <th>2015-01-07</th>\n",
       "      <td>24.388374</td>\n",
       "      <td>298.420013</td>\n",
       "      <td>76.150002</td>\n",
       "      <td>499.727997</td>\n",
       "      <td>46.742859</td>\n",
       "    </tr>\n",
       "    <tr>\n",
       "      <th>2015-01-08</th>\n",
       "      <td>25.325426</td>\n",
       "      <td>300.459991</td>\n",
       "      <td>78.180000</td>\n",
       "      <td>501.303680</td>\n",
       "      <td>47.779999</td>\n",
       "    </tr>\n",
       "  </tbody>\n",
       "</table>\n",
       "</div>"
      ],
      "text/plain": [
       "                 AAPL        AMZN         FB        GOOG       NFLX\n",
       "Date                                                               \n",
       "2015-01-02  24.745993  308.519989  78.449997  523.373108  49.848572\n",
       "2015-01-05  24.048864  302.190002  77.190002  512.463013  47.311428\n",
       "2015-01-06  24.051123  295.290009  76.150002  500.585632  46.501431\n",
       "2015-01-07  24.388374  298.420013  76.150002  499.727997  46.742859\n",
       "2015-01-08  25.325426  300.459991  78.180000  501.303680  47.779999"
      ]
     },
     "execution_count": 4,
     "metadata": {},
     "output_type": "execute_result"
    }
   ],
   "source": [
    "df = pd.read_csv('../python_lab-3/all_stocks.csv', parse_dates=True, index_col=0)\n",
    "df.head()"
   ]
  },
  {
   "cell_type": "code",
   "execution_count": 5,
   "metadata": {},
   "outputs": [
    {
     "data": {
      "text/html": [
       "<div>\n",
       "<style scoped>\n",
       "    .dataframe tbody tr th:only-of-type {\n",
       "        vertical-align: middle;\n",
       "    }\n",
       "\n",
       "    .dataframe tbody tr th {\n",
       "        vertical-align: top;\n",
       "    }\n",
       "\n",
       "    .dataframe thead th {\n",
       "        text-align: right;\n",
       "    }\n",
       "</style>\n",
       "<table border=\"1\" class=\"dataframe\">\n",
       "  <thead>\n",
       "    <tr style=\"text-align: right;\">\n",
       "      <th></th>\n",
       "      <th>AAPL</th>\n",
       "      <th>AMZN</th>\n",
       "      <th>FB</th>\n",
       "      <th>GOOG</th>\n",
       "      <th>NFLX</th>\n",
       "    </tr>\n",
       "    <tr>\n",
       "      <th>Date</th>\n",
       "      <th></th>\n",
       "      <th></th>\n",
       "      <th></th>\n",
       "      <th></th>\n",
       "      <th></th>\n",
       "    </tr>\n",
       "  </thead>\n",
       "  <tbody>\n",
       "    <tr>\n",
       "      <th>2021-07-20</th>\n",
       "      <td>145.718674</td>\n",
       "      <td>3573.189941</td>\n",
       "      <td>341.660004</td>\n",
       "      <td>2622.030029</td>\n",
       "      <td>531.049988</td>\n",
       "    </tr>\n",
       "    <tr>\n",
       "      <th>2021-07-21</th>\n",
       "      <td>144.970901</td>\n",
       "      <td>3585.199951</td>\n",
       "      <td>346.230011</td>\n",
       "      <td>2652.010010</td>\n",
       "      <td>513.630005</td>\n",
       "    </tr>\n",
       "  </tbody>\n",
       "</table>\n",
       "</div>"
      ],
      "text/plain": [
       "                  AAPL         AMZN          FB         GOOG        NFLX\n",
       "Date                                                                    \n",
       "2021-07-20  145.718674  3573.189941  341.660004  2622.030029  531.049988\n",
       "2021-07-21  144.970901  3585.199951  346.230011  2652.010010  513.630005"
      ]
     },
     "execution_count": 5,
     "metadata": {},
     "output_type": "execute_result"
    }
   ],
   "source": [
    "df.tail(2)"
   ]
  },
  {
   "cell_type": "code",
   "execution_count": 6,
   "metadata": {},
   "outputs": [],
   "source": [
    "returns = df.pct_change().dropna()"
   ]
  },
  {
   "cell_type": "code",
   "execution_count": 7,
   "metadata": {},
   "outputs": [
    {
     "data": {
      "image/png": "[encoded data removed]",
      "text/plain": [
       "<Figure size 864x576 with 1 Axes>"
      ]
     },
     "metadata": {},
     "output_type": "display_data"
    }
   ],
   "source": [
    "plt.plot(returns['AMZN'], color = 'blue')\n",
    "plt.axhline(y=0.05, ls='dotted', color = 'black')\n",
    "plt.axhline(y=-0.05, ls='dotted', color = 'black')\n",
    "plt.title('AMZN retorno diario')\n",
    "plt.grid(True)"
   ]
  },
  {
   "cell_type": "markdown",
   "metadata": {},
   "source": [
    "## VaR paramétrico\n",
    "A Variância-covariância é um método paramétrico que assume (quase sempre) que os retornos são normalmente distribuídos. Neste método, primeiro calculamos a média e o desvio padrão dos retornos para derivar a métrica de risco. Com base no pressuposto de normalidade, podemos generalizar\n",
    "\n",
    "$$VaR = possition \\cdot (\\mu - z \\cdot \\sigma)$$"
   ]
  },
  {
   "cell_type": "code",
   "execution_count": 8,
   "metadata": {},
   "outputs": [],
   "source": [
    "mean = np.mean(returns['AMZN'])\n",
    "stddev = np.std(returns['AMZN'])"
   ]
  },
  {
   "cell_type": "code",
   "execution_count": 12,
   "metadata": {},
   "outputs": [],
   "source": [
    "VaR90 = norm.ppf(1-0.90, mean,stddev)\n",
    "VaR95 = norm.ppf(1-0.95,mean,stddev)\n",
    "VaR99 = norm.ppf(1-0.99,mean,stddev)"
   ]
  },
  {
   "cell_type": "code",
   "execution_count": 13,
   "metadata": {},
   "outputs": [
    {
     "data": {
      "text/plain": [
       "-0.04292831231152511"
      ]
     },
     "execution_count": 13,
     "metadata": {},
     "output_type": "execute_result"
    }
   ],
   "source": [
    "VaR99"
   ]
  },
  {
   "cell_type": "code",
   "execution_count": 14,
   "metadata": {},
   "outputs": [
    {
     "name": "stdout",
     "output_type": "stream",
     "text": [
      "Confidence Level      Value At Risk\n",
      "------------------  ---------------\n",
      "90%                      -0.0228979\n",
      "95%                      -0.029863\n",
      "99%                      -0.0429283\n"
     ]
    }
   ],
   "source": [
    "table = [['90%', VaR90], ['95%', VaR95], ['99%', VaR99]]\n",
    "header = ['Confidence Level', 'Value At Risk']\n",
    "print(tabulate(table, headers=header))\n"
   ]
  },
  {
   "cell_type": "code",
   "execution_count": 15,
   "metadata": {},
   "outputs": [],
   "source": [
    "def VaR(symbols, cl=0.95):\n",
    "    mean = np.mean(returns[symbols])\n",
    "    stdev = np.std(returns[symbols])\n",
    "    return np.around(norm.ppf(1-cl,mean,stddev),4)"
   ]
  },
  {
   "cell_type": "code",
   "execution_count": 16,
   "metadata": {},
   "outputs": [
    {
     "data": {
      "text/plain": [
       "-0.0303"
      ]
     },
     "execution_count": 16,
     "metadata": {},
     "output_type": "execute_result"
    }
   ],
   "source": [
    "VaR('AAPL')"
   ]
  },
  {
   "cell_type": "code",
   "execution_count": 18,
   "metadata": {},
   "outputs": [
    {
     "name": "stdout",
     "output_type": "stream",
     "text": [
      "VaR for FAANG Stocks\n",
      "---------------------------------\n",
      "VaR at 95% CL for AAPL : -3.03%\n",
      "VaR at 95% CL for AMZN : -2.99%\n",
      "VaR at 95% CL for FB   : -3.04%\n",
      "VaR at 95% CL for GOOG : -3.04%\n",
      "VaR at 95% CL for NFLX : -2.98%\n"
     ]
    }
   ],
   "source": [
    "print('VaR for FAANG Stocks')\n",
    "print('---'*11)\n",
    "[print(f'VaR at 95% CL for {stock:4} : {VaR(stock) * 100:0.4}%')for stock in df.columns][0]\n"
   ]
  },
  {
   "cell_type": "code",
   "execution_count": 20,
   "metadata": {},
   "outputs": [
    {
     "name": "stdout",
     "output_type": "stream",
     "text": [
      "Amazon Holding Value: 3585199.951171875\n",
      "Amazon VaR at 99% confidence level is: -153906.58320317083\n"
     ]
    }
   ],
   "source": [
    "num_of_shares = 1000\n",
    "price = df['AMZN'].iloc[-1]\n",
    "position = num_of_shares *price\n",
    "amzn_var = position * VaR99\n",
    "print(f'Amazon Holding Value: {position}')\n",
    "print(f'Amazon VaR at 99% confidence level is: {amzn_var}')\n"
   ]
  },
  {
   "cell_type": "code",
   "execution_count": null,
   "metadata": {},
   "outputs": [],
   "source": []
  }
 ],
 "metadata": {
  "interpreter": {
   "hash": "93d181ae0537741559a56fe3f4ecb1ffaf114b18a27fd1319b63730f0271173f"
  },
  "kernelspec": {
   "display_name": "Python 3.9.0 64-bit (system)",
   "language": "python",
   "name": "python3"
  },
  "language_info": {
   "codemirror_mode": {
    "name": "ipython",
    "version": 3
   },
   "file_extension": ".py",
   "mimetype": "text/x-python",
   "name": "python",
   "nbconvert_exporter": "python",
   "pygments_lexer": "ipython3",
   "version": "3.9.0"
  },
  "orig_nbformat": 4
 },
 "nbformat": 4,
 "nbformat_minor": 2
}
